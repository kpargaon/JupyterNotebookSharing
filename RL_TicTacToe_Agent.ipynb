{
 "cells": [
  {
   "cell_type": "markdown",
   "metadata": {},
   "source": [
    "## Tic-Tac-Toe Agent"
   ]
  },
  {
   "cell_type": "markdown",
   "metadata": {},
   "source": [
    "#### Importing libraries"
   ]
  },
  {
   "cell_type": "code",
   "execution_count": 2,
   "metadata": {
    "collapsed": true
   },
   "outputs": [],
   "source": [
    "import collections\n",
    "from itertools import product\n",
    "import numpy as np\n",
    "import random\n",
    "import pickle\n",
    "import collections\n",
    "from matplotlib import pyplot as plt\n",
    "import time\n",
    "from TC_Env import TicTacToe\n",
    "%matplotlib inline"
   ]
  },
  {
   "cell_type": "code",
   "execution_count": 3,
   "metadata": {},
   "outputs": [
    {
     "name": "stdout",
     "output_type": "stream",
     "text": [
      "0\n",
      "4\n",
      "0\n"
     ]
    }
   ],
   "source": [
    "Q_dict = collections.defaultdict(dict)\n",
    "\n",
    "States_track = collections.defaultdict(dict)\n",
    "\n",
    "rewards_tracked = {\"{'0': 1, '1': 0, '2': 2, '3': 4, '4': 7, '5': 6, '6': 0, '7': 0, '8': 0}\":[],\"{'0': 1, '1': 2, '2': 0, '3': 0, '4': 5, '5': 4, '6': 0, '7': 0, '8': 9}\":[],\"{'0': 0, '1': 8, '2': 0, '3': 0, '4': 5, '5': 0, '6': 0, '7': 2, '8': 0}\":[],\"{'0': 7, '1': 4, '2': 9, '3': 3, '4': 2, '5': 0, '6': 5, '7': 0, '8': 0}\":[]}\n",
    "\n",
    "\n",
    "print(len(Q_dict))\n",
    "print(len(rewards_tracked))\n",
    "print(len(States_track))"
   ]
  },
  {
   "cell_type": "code",
   "execution_count": 4,
   "metadata": {
    "collapsed": true
   },
   "outputs": [],
   "source": [
    "### Defining all valid actions for each state.\n",
    "def agent_valid_actions(state):\n",
    "    \n",
    "    allowed_posn = ['0','1','2','3','4','5','6','7','8']\n",
    "    allowed_val  = [1,3,5,7,9]\n",
    "    valid_Actions = list(product(allowed_posn,allowed_val))\n",
    "    return valid_Actions\n",
    "\n",
    "### Defining all valid agent positions which are available to take\n",
    "def allowed_agent_positions(curr_state):\n",
    "        index_list = []\n",
    "        for key,value in curr_state.items():\n",
    "            if value == 0:\n",
    "                index_list.append(key)\n",
    "        if index_list == []:\n",
    "            return None\n",
    "        else:\n",
    "            return index_list\n",
    "\n",
    "### Defining all valid agent values which are available to take\n",
    "def allowed_agent_values(curr_state):\n",
    "        allowed_values = [1,3,5,7,9]\n",
    "        used_values =[]\n",
    "        for key,value in curr_state.items():\n",
    "            if value in [1,3,5,7,9]:\n",
    "                used_values.append(value)\n",
    "        allowed_values = [x for x in allowed_values if x not in used_values]\n",
    "        if allowed_values == []:\n",
    "             return None\n",
    "        else:\n",
    "             return allowed_values"
   ]
  },
  {
   "cell_type": "code",
   "execution_count": 5,
   "metadata": {
    "collapsed": true
   },
   "outputs": [],
   "source": [
    "### Defind a function to add the state and valid action values to the Q_dict\n",
    "def add_to_dict(state,valid_act):\n",
    "    \n",
    "     if str(state) not in Q_dict.keys():\n",
    "        Q_dict[str(state)] = {}\n",
    "        for action in valid_act:\n",
    "            Q_dict[str(state)][action] = 0.0"
   ]
  },
  {
   "cell_type": "code",
   "execution_count": 6,
   "metadata": {
    "collapsed": true
   },
   "outputs": [],
   "source": [
    "### Defining a function to save the Q-dictionary as a pickle file\n",
    "\n",
    "def save_obj(obj, name ):\n",
    "    with open(name + '.pkl', 'wb') as f:\n",
    "        pickle.dump(obj, f, pickle.HIGHEST_PROTOCOL)"
   ]
  },
  {
   "cell_type": "code",
   "execution_count": 7,
   "metadata": {
    "collapsed": true
   },
   "outputs": [],
   "source": [
    "### Function for initialising tracking states\n",
    "def initialise_tracking_states():\n",
    "\n",
    "    sample_q_values={\"{'0': 1, '1': 2, '2': 8, '3': 5, '4': 9, '5': 4, '6': 3, '7': 7, '8': 6}\":('5', 9),\"{'0': 1, '1': 6, '2': 3, '3': 7, '4': 2, '5': 4, '6': 8, '7': 9, '8': 5}\":('1', 3),\"{'0': 0, '1': 3, '2': 5, '3': 7, '4': 2, '5': 0, '6': 0, '7': 4, '8': 8}\":('6', 9),\"{'0': 1, '1': 6, '2': 0, '3': 0, '4': 7, '5': 0, '6': 2, '7': 0, '8': 0}\":('7', 7)}\n",
    "    for key,q_values in sample_q_values.items():\n",
    "        state = key\n",
    "        action = q_values\n",
    "        States_track[str(state)][action] = []   "
   ]
  },
  {
   "cell_type": "code",
   "execution_count": 8,
   "metadata": {
    "collapsed": true
   },
   "outputs": [],
   "source": [
    "### Function for saving q values to tracking states\n",
    "\n",
    "def save_tracking_states():\n",
    "    for state in States_track.keys():\n",
    "        for action in States_track[str(state)].keys():\n",
    "            if state in Q_dict and action in Q_dict[str(state)]:\n",
    "                States_track[str(state)][action].append(Q_dict[str(state)][action])  "
   ]
  },
  {
   "cell_type": "markdown",
   "metadata": {},
   "source": [
    "#### Epsilon-greedy strategy"
   ]
  },
  {
   "cell_type": "code",
   "execution_count": 9,
   "metadata": {
    "collapsed": true
   },
   "outputs": [],
   "source": [
    "def epsilon_greedy(state, time):\n",
    "    epsilon = - 1/ (1 + np.exp((-time+7500000)/1700000)) + 1\n",
    "    z = np.random.random()\n",
    "        \n",
    "    if z > epsilon:\n",
    "        action = max(Q_dict[str(state)],key=Q_dict[str(state)].get)   #Exploitation: this gets the action corresponding to max q-value of current state\n",
    "    else:\n",
    "        action = random.sample(list(zip(allowed_agent_positions(state),allowed_agent_values(state))),1)    #Exploration: randomly choosing and action\n",
    "        action = action[0]\n",
    "    \n",
    "    return action"
   ]
  },
  {
   "cell_type": "markdown",
   "metadata": {},
   "source": [
    "#### Define hyperparameters"
   ]
  },
  {
   "cell_type": "code",
   "execution_count": 10,
   "metadata": {
    "collapsed": true
   },
   "outputs": [],
   "source": [
    "#Defining parameters for the experiment\n",
    "EPISODES = 3000000\n",
    "STEPS = 5\n",
    "LR = 0.01                   #learning rate\n",
    "GAMMA = 0.91\n",
    "threshold = 2000       #every these many episodes, the 4 Q-values will be stored/appended (convergence graphs)\n",
    "policy_threshold = 30000    #every these many episodes, the Q-dict will be updated"
   ]
  },
  {
   "cell_type": "markdown",
   "metadata": {},
   "source": [
    "### Q-update loop"
   ]
  },
  {
   "cell_type": "code",
   "execution_count": 11,
   "metadata": {},
   "outputs": [
    {
     "name": "stdout",
     "output_type": "stream",
     "text": [
      "2999999\n"
     ]
    }
   ],
   "source": [
    "for episode in range(0,EPISODES):\n",
    "\n",
    "\n",
    "    \n",
    "    env = TicTacToe()  \n",
    "    initial_state = env.state   \n",
    "    curr_state = env.state     \n",
    "    \n",
    "    add_to_dict(curr_state,agent_valid_actions(curr_state))\n",
    "    \n",
    "    time_step = 0\n",
    "    reward = None\n",
    "    total_reward = 0\n",
    "    \n",
    "    \n",
    "    while time_step < STEPS:    #the episode will run only for a few steps and not infinitely\n",
    "        \n",
    "         \n",
    "        curr_action = epsilon_greedy(curr_state, episode)\n",
    "\n",
    "        next_state, reward = env.step(curr_state, curr_action)\n",
    "\n",
    "        \n",
    "        add_to_dict(next_state,agent_valid_actions(next_state))\n",
    "        \n",
    "\n",
    "        \n",
    "            \n",
    "        # UPDATE RULE\n",
    "        max_next = max(Q_dict[str(next_state)],key=Q_dict[str(next_state)].get)   #this gets the action corresponding to max q-value of next state\n",
    "        Q_dict[str(curr_state)][curr_action] += LR * ((reward + (GAMMA*(Q_dict[str(next_state)][max_next]))) - Q_dict[str(curr_state)][curr_action] ) \n",
    "\n",
    "\n",
    "        curr_state = next_state       \n",
    "\n",
    "        total_reward += reward\n",
    "        \n",
    "        time_step += 1\n",
    "        ### break if it is a winning state or tie as no further state is possible\n",
    "        if reward == 10:\n",
    "            break\n",
    "        if reward == -10: \n",
    "            break\n",
    "        if reward == 0: \n",
    "            break\n",
    "\n",
    "    \n",
    "    #TRACKING REWARDS\n",
    "    if str(initial_state) in rewards_tracked:     #storing rewards\n",
    "        rewards_tracked[str(initial_state)].append(total_reward)\n",
    "\n",
    "\n",
    "    if ((episode+1) % threshold) == 0:   #every 2000th episode\n",
    "        save_obj(rewards_tracked,'Rewards')   \n",
    "    \n",
    "#     #TRACKING Q-VALUES\n",
    "    if (episode == threshold-1):        #at the 1999th episode\n",
    "        initialise_tracking_states()\n",
    "      \n",
    "    if ((episode+1) % threshold) == 0:   #every 2000th episode\n",
    "        save_tracking_states()\n",
    "        save_obj(States_track,'States_tracked')   \n",
    "    \n",
    "#     #SAVING POLICY\n",
    "    if ((episode+1)% policy_threshold ) == 0:  #every 30000th episodes, the Q-dict will be saved\n",
    "        save_obj(Q_dict,'Policy')    \n",
    "        \n",
    "        \n",
    "save_obj(rewards_tracked,'Rewards')   \n",
    "save_obj(States_track,'States_tracked')   \n",
    "save_obj(Q_dict,'Policy')      \n",
    "print(episode)"
   ]
  },
  {
   "cell_type": "markdown",
   "metadata": {},
   "source": [
    "#### Check the Q-dictionary"
   ]
  },
  {
   "cell_type": "code",
   "execution_count": 12,
   "metadata": {},
   "outputs": [],
   "source": [
    "all_actions = {('0', 1): 0.0,\n",
    " ('0', 3): 0.0,\n",
    " ('0', 5): 0.0,\n",
    " ('0', 7): 0.0,\n",
    " ('0', 9): 0.0,\n",
    " ('1', 1): 0.0,\n",
    " ('1', 3): 0.0,\n",
    " ('1', 5): 0.0,\n",
    " ('1', 7): 0.0,\n",
    " ('1', 9): 0.0,\n",
    " ('2', 1): 0.0,\n",
    " ('2', 3): 0.0,\n",
    " ('2', 5): 0.0,\n",
    " ('2', 7): 0.0,\n",
    " ('2', 9): 0.0,\n",
    " ('3', 1): 0.0,\n",
    " ('3', 3): 0.0,\n",
    " ('3', 5): 0.0,\n",
    " ('3', 7): 0.0,\n",
    " ('3', 9): 0.0,\n",
    " ('4', 1): 0.0,\n",
    " ('4', 3): 0.0,\n",
    " ('4', 5): 0.0,\n",
    " ('4', 7): 0.0,\n",
    " ('4', 9): 0.0,\n",
    " ('5', 1): 0.0,\n",
    " ('5', 3): 0.0,\n",
    " ('5', 5): 0.0,\n",
    " ('5', 7): 0.0,\n",
    " ('5', 9): 0.0,\n",
    " ('6', 1): 0.0,\n",
    " ('6', 3): 0.0,\n",
    " ('6', 5): 0.0,\n",
    " ('6', 7): 0.0,\n",
    " ('6', 9): 0.0,\n",
    " ('7', 1): 0.0,\n",
    " ('7', 3): 0.0,\n",
    " ('7', 5): 0.0,\n",
    " ('7', 7): 0.0,\n",
    " ('7', 9): 0.0,\n",
    " ('8', 1): 0.0,\n",
    " ('8', 3): 0.0,\n",
    " ('8', 5): 0.0,\n",
    " ('8', 7): 0.0,\n",
    " ('8', 9): 0.0}\n",
    "for key,value in Q_dict.items():\n",
    "    for k,v in value.items():\n",
    "        if k in all_actions.keys():\n",
    "            if v > all_actions[k]:\n",
    "                all_actions.update({k:v})"
   ]
  },
  {
   "cell_type": "code",
   "execution_count": 13,
   "metadata": {},
   "outputs": [
    {
     "name": "stdout",
     "output_type": "stream",
     "text": [
      "{('0', 1): 40.262016572277844, ('0', 3): 6.410604600539843, ('0', 5): 0.0, ('0', 7): 0.0, ('0', 9): 0.0, ('1', 1): 15.080687655958643, ('1', 3): 36.30060946616096, ('1', 5): 0.29973008100000004, ('1', 7): 0.4991008096355657, ('1', 9): 0.29973008100000004, ('2', 1): 16.02712222305355, ('2', 3): 7.5239339499751345, ('2', 5): 68.42171162631097, ('2', 7): 0.39946032392710007, ('2', 9): 0.39946032392710007, ('3', 1): 14.994182420136767, ('3', 3): 15.598086572150313, ('3', 5): 14.208808493578358, ('3', 7): 110.11956832374567, ('3', 9): 0.0, ('4', 1): 9.017248809236804, ('4', 3): 16.686842793708273, ('4', 5): 26.645932234228294, ('4', 7): 110.11060010593825, ('4', 9): 110.02419094953962, ('5', 1): 4.508067773198402, ('5', 3): 18.143565204868075, ('5', 5): 39.49403956552236, ('5', 7): 108.91131327729286, ('5', 9): 110.1328701486646, ('6', 1): 30.761695902445503, ('6', 3): 36.63757944475037, ('6', 5): 35.60173372525507, ('6', 7): 45.75977274659355, ('6', 9): 56.995364753272106, ('7', 1): 17.55575545592238, ('7', 3): 25.074401500131145, ('7', 5): 39.51489904358682, ('7', 7): 46.60549798993447, ('7', 9): 61.85734134422321, ('8', 1): 18.810826822492317, ('8', 3): 36.61471322600968, ('8', 5): 41.29103469333555, ('8', 7): 46.55167174408561, ('8', 9): 60.026618650740254}\n"
     ]
    }
   ],
   "source": [
    "print(all_actions)"
   ]
  },
  {
   "cell_type": "markdown",
   "metadata": {},
   "source": [
    "#### Check the states tracked for Q-values convergence"
   ]
  },
  {
   "cell_type": "code",
   "execution_count": 14,
   "metadata": {},
   "outputs": [
    {
     "data": {
      "image/png": "[encoded data removed]",
      "text/plain": [
       "<matplotlib.figure.Figure at 0x2759e0b5b38>"
      ]
     },
     "metadata": {},
     "output_type": "display_data"
    }
   ],
   "source": [
    "xaxis0 = np.asarray(range(0, len(States_track[str({'0': 1, '1': 2, '2': 8, '3': 5, '4': 9, '5': 4, '6': 3, '7': 7, '8': 6})][('5', 9)])))\n",
    "xaxis1 = np.asarray(range(0, len(States_track[str({'0': 1, '1': 6, '2': 3, '3': 7, '4': 2, '5': 4, '6': 8, '7': 9, '8': 5})][('1', 3)])))\n",
    "xaxis2 = np.asarray(range(0, len(States_track[str({'0': 0, '1': 3, '2': 5, '3': 7, '4': 2, '5': 0, '6': 0, '7': 4, '8': 8})][('6', 9)])))\n",
    "xaxis3 = np.asarray(range(0, len(States_track[str({'0': 1, '1': 6, '2': 0, '3': 0, '4': 7, '5': 0, '6': 2, '7': 0, '8': 0})][('7', 7)])))\n",
    "\n",
    "plt.figure(0, figsize=(16,4))\n",
    "plt.subplot(241)\n",
    "plt.title('state=First position = 5 action=9')\n",
    "plt.plot(xaxis0,np.asarray(States_track[str({'0': 1, '1': 2, '2': 8, '3': 5, '4': 9, '5': 4, '6': 3, '7': 7, '8': 6})][('5', 9)]))\n",
    "plt.subplot(242)\n",
    "plt.title('state=Second position = 1 action=3')\n",
    "plt.plot(xaxis1,np.asarray(States_track[str({'0': 1, '1': 6, '2': 3, '3': 7, '4': 2, '5': 4, '6': 8, '7': 9, '8': 5})][('1', 3)]))\n",
    "plt.subplot(243)\n",
    "plt.title('state=Third position = 6 action=9')\n",
    "plt.plot(xaxis2,np.asarray(States_track[str({'0': 0, '1': 3, '2': 5, '3': 7, '4': 2, '5': 0, '6': 0, '7': 4, '8': 8})][('6', 9)]))\n",
    "plt.subplot(244)\n",
    "plt.title('state=Fourth position = 7 action=7')\n",
    "plt.plot(xaxis3,np.asarray(States_track[str({'0': 1, '1': 6, '2': 0, '3': 0, '4': 7, '5': 0, '6': 2, '7': 0, '8': 0})][('7', 7)]))\n",
    "\n",
    "\n",
    "plt.show()"
   ]
  },
  {
   "cell_type": "code",
   "execution_count": 16,
   "metadata": {},
   "outputs": [
    {
     "name": "stderr",
     "output_type": "stream",
     "text": [
      "C:\\ProgramData\\Anaconda3\\lib\\site-packages\\matplotlib\\cbook\\deprecation.py:106: MatplotlibDeprecationWarning: Adding an axes using the same arguments as a previous axes currently reuses the earlier instance.  In a future version, a new instance will always be created and returned.  Meanwhile, this warning can be suppressed, and the future behavior ensured, by passing a unique label to each axes instance.\n",
      "  warnings.warn(message, mplDeprecation, stacklevel=1)\n"
     ]
    },
    {
     "data": {
      "image/png": "[encoded data removed]",
      "text/plain": [
       "<matplotlib.figure.Figure at 0x275a0464f98>"
      ]
     },
     "metadata": {},
     "output_type": "display_data"
    }
   ],
   "source": [
    "xaxis0 = np.asarray(range(0, len(States_track[str({'0': 1, '1': 2, '2': 8, '3': 5, '4': 9, '5': 4, '6': 3, '7': 7, '8': 6})][('5', 9)])))\n",
    "xaxis1 = np.asarray(range(0, len(States_track[str({'0': 1, '1': 6, '2': 3, '3': 7, '4': 2, '5': 4, '6': 8, '7': 9, '8': 5})][('1', 3)])))\n",
    "xaxis2 = np.asarray(range(0, len(States_track[str({'0': 0, '1': 3, '2': 5, '3': 7, '4': 2, '5': 0, '6': 0, '7': 4, '8': 8})][('6', 9)])))\n",
    "xaxis3 = np.asarray(range(0, len(States_track[str({'0': 1, '1': 6, '2': 0, '3': 0, '4': 7, '5': 0, '6': 2, '7': 0, '8': 0})][('7', 7)])))\n",
    "\n",
    "plt.figure(0, figsize=(16,4))\n",
    "plt.subplot(241)\n",
    "plt.title('state=First position = 5 action=9')\n",
    "plt.plot(xaxis0,np.asarray(States_track[str({'0': 1, '1': 2, '2': 8, '3': 5, '4': 9, '5': 4, '6': 3, '7': 7, '8': 6})][('5', 9)]))\n",
    "plt.subplot(242)\n",
    "plt.title('state=Second position = 1 action=3')\n",
    "plt.plot(xaxis1,np.asarray(States_track[str({'0': 1, '1': 6, '2': 3, '3': 7, '4': 2, '5': 4, '6': 8, '7': 9, '8': 5})][('1', 3)]))\n",
    "plt.subplot(243)\n",
    "plt.title('state=Third position = 6 action=9')\n",
    "plt.plot(xaxis2,np.asarray(States_track[str({'0': 0, '1': 3, '2': 5, '3': 7, '4': 2, '5': 0, '6': 0, '7': 4, '8': 8})][('6', 9)]))\n",
    "plt.subplot(244)\n",
    "plt.title('state=Fourth position = 7 action=7')\n",
    "plt.plot(xaxis3,np.asarray(States_track[str({'0': 1, '1': 6, '2': 0, '3': 0, '4': 7, '5': 0, '6': 2, '7': 0, '8': 0})][('7', 7)]))\n",
    "plt.show()"
   ]
  },
  {
   "cell_type": "markdown",
   "metadata": {
    "collapsed": true
   },
   "source": [
    "#### It seems that with 3 Million episodes the specific states are converged"
   ]
  }
 ],
 "metadata": {
  "kernelspec": {
   "display_name": "Python 3",
   "language": "python",
   "name": "python3"
  },
  "language_info": {
   "codemirror_mode": {
    "name": "ipython",
    "version": 3
   },
   "file_extension": ".py",
   "mimetype": "text/x-python",
   "name": "python",
   "nbconvert_exporter": "python",
   "pygments_lexer": "ipython3",
   "version": "3.7.1"
  }
 },
 "nbformat": 4,
 "nbformat_minor": 2
}
